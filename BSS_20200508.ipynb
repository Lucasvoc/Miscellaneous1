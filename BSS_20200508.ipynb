{
 "cells": [
  {
   "cell_type": "markdown",
   "metadata": {},
   "source": [
    "## Simulations: BBS v.s. Knockoff/Lasso (TPR,FDR)"
   ]
  },
  {
   "cell_type": "markdown",
   "metadata": {},
   "source": [
    "### Preparations"
   ]
  },
  {
   "cell_type": "code",
   "execution_count": 1,
   "metadata": {},
   "outputs": [],
   "source": [
    "import numpy as np\n",
    "import time\n",
    "import random\n",
    "from itertools import product\n",
    "import matplotlib.pyplot as plt\n",
    "import numpy.linalg\n",
    "import numpy.matlib\n",
    "import warnings\n",
    "import gurobipy as gp\n",
    "from gurobipy import GRB\n",
    "warnings.filterwarnings('ignore')"
   ]
  },
  {
   "cell_type": "markdown",
   "metadata": {},
   "source": [
    "### Function: Generating Gaussian Samples"
   ]
  },
  {
   "cell_type": "code",
   "execution_count": 2,
   "metadata": {},
   "outputs": [],
   "source": [
    "def gnrt_normal(n,p,rho,snr,beta0):\n",
    "    sigma=np.matlib.zeros((p,p))\n",
    "    for i in range(p):\n",
    "        for j in range(p):\n",
    "            sigma[i,j]=rho**(abs(i-j))\n",
    "    X=np.random.multivariate_normal(mean=np.zeros(p),cov=sigma,size=n)\n",
    "    var=float(beta0.T.dot(sigma).dot(beta0)/snr)\n",
    "    I=np.identity(n)\n",
    "    Y=np.random.multivariate_normal(mean=list(np.array(X.dot(beta0).T)[0]),cov=var*I,size=1)\n",
    "    return np.matrix(X),np.matrix(Y).T"
   ]
  },
  {
   "cell_type": "markdown",
   "metadata": {},
   "source": [
    "### Function: Solving Best Subset Selection with $Gurobi$ package"
   ]
  },
  {
   "cell_type": "code",
   "execution_count": 3,
   "metadata": {},
   "outputs": [],
   "source": [
    "def solve_dis_alg(Y,X,epsilon,k):\n",
    "    p=X.shape[1]\n",
    "    L=np.linalg.eig(X.T.dot(X))[0][0]\n",
    "    beta_old=np.matrix(np.zeros(p)).T\n",
    "    beta_new=beta_old\n",
    "    initial=random.sample(range(p),k)\n",
    "    beta_new[initial,0]=1\n",
    "    count_iter=0\n",
    "    while np.linalg.norm(beta_old-beta_new)>epsilon:\n",
    "        count_iter+=1\n",
    "        if count_iter>=100000:\n",
    "            print('Out of Time')\n",
    "            break\n",
    "        beta_old=beta_new\n",
    "        beta_new=np.zeros(p)\n",
    "        T=np.array(beta_old-1/L*(X.T.dot(X).dot(beta_old)-X.T.dot(Y))).T[0]\n",
    "        tt_sort=-np.sort(-abs(T))\n",
    "        for i in range(k):\n",
    "            for j in range(p):\n",
    "                if tt_sort[i]==T[j]:\n",
    "                    beta_new[j]=T[j]\n",
    "                    break\n",
    "        beta_new=np.matrix(beta_new).T\n",
    "    A=[np.flatnonzero(beta_new)]\n",
    "    active=np.array(np.linalg.inv(X[:,A[0]].T.dot(X[:,A[0]])).dot(X[:,A[0]].T).dot(Y).T)[0]\n",
    "    beta_warmstart=[0]*p\n",
    "    j=0\n",
    "    for i in A[0]:\n",
    "        beta_warmstart[i]=active[j]\n",
    "        j=j+1\n",
    "    return beta_warmstart\n",
    "\n",
    "def solve_First_Constraint(Y,X,UB):\n",
    "    p=X.shape[1]\n",
    "    Quad=np.dot(X.T,X)\n",
    "    line=np.array(np.dot(Y.T,X))[0]\n",
    "    entr=float(np.dot(Y.T,Y))\n",
    "    uppers=[]\n",
    "    downers=[]\n",
    "    for i in range(p):\n",
    "        # Upper\n",
    "        mvu=gp.Model()\n",
    "        # Decision variables\n",
    "        beta=mvu.addVars(p,lb=-GRB.INFINITY,name='beta')\n",
    "        # Objective function\n",
    "        mvu.setObjective(beta[i],GRB.MAXIMIZE)\n",
    "        # Constraint sets\n",
    "        const=sum(0.5*Quad[k,j]*beta[k]*beta[j] for k,j in product(range(p), repeat=2))\n",
    "        const-=sum(line[k]*beta[k] for k in range(p))\n",
    "        const+=0.5*entr\n",
    "        mvu.addConstr(const<=UB)\n",
    "        # Solve\n",
    "        mvu.params.OutputFlag=0\n",
    "        mvu.params.timelimit=60\n",
    "        mvu.params.mipgap=0.001\n",
    "        mvu.optimize()\n",
    "        uppers.append(mvu.objVal)\n",
    "        # Lower\n",
    "        mvL=gp.Model()\n",
    "        # Decision variables\n",
    "        beta=mvL.addVars(p,lb=-GRB.INFINITY,name='beta')\n",
    "        # Objective function\n",
    "        mvL.setObjective(beta[i],GRB.MINIMIZE)\n",
    "        # Constraint sets\n",
    "        const=sum(0.5*Quad[k,j]*beta[k]*beta[j] for k,j in product(range(p), repeat=2))\n",
    "        const-=sum(line[k]*beta[k] for k in range(p))\n",
    "        const+=0.5*entr\n",
    "        mvL.addConstr(const<=UB)\n",
    "        # Solve\n",
    "        mvL.params.OutputFlag=0\n",
    "        mvL.params.timelimit=60\n",
    "        mvL.params.mipgap=0.001\n",
    "        mvL.optimize()\n",
    "        downers.append(mvL.objVal)\n",
    "    Final_list=[]\n",
    "    for i in range(p):\n",
    "        if abs(uppers[i])>abs(downers[i]):\n",
    "            Final_list.append(abs(uppers[i]))\n",
    "        else: Final_list.append(abs(downers[i]))\n",
    "    return max(Final_list),sum(Final_list)\n",
    "        \n",
    "def solve_Second_Constraints(Y,X,UB):\n",
    "    n=X.shape[0]\n",
    "    Quad=np.dot(X.T,X)\n",
    "    line=np.array(np.dot(Y.T,X))[0]\n",
    "    entr=float(np.dot(Y.T,Y))\n",
    "    uppers=[]\n",
    "    downers=[]\n",
    "    for i in range(n):\n",
    "        # Upper\n",
    "        mvu=gp.Model()\n",
    "        # Decision variables\n",
    "        beta=mvu.addVars(p,lb=-GRB.INFINITY,name='beta')\n",
    "        # Objective function\n",
    "        mvu.setObjective(sum(X[i,j]*beta[j] for j in range(p)),GRB.MAXIMIZE)\n",
    "        # Constraint sets\n",
    "        const=sum(0.5*Quad[k,j]*beta[k]*beta[j] for k,j in product(range(p), repeat=2))\n",
    "        const-=sum(line[k]*beta[k] for k in range(p))\n",
    "        const+=0.5*entr\n",
    "        mvu.addConstr(const<=UB)\n",
    "        # Solve\n",
    "        mvu.params.OutputFlag=0\n",
    "        mvu.params.timelimit=6000\n",
    "        mvu.params.mipgap=0.001\n",
    "        mvu.optimize()\n",
    "        uppers.append(mvu.objVal)\n",
    "        # Lower\n",
    "        mvL=gp.Model()\n",
    "        # Decision variables\n",
    "        beta=mvL.addVars(p,lb=-GRB.INFINITY,name='beta')\n",
    "        # Objective function\n",
    "        mvL.setObjective(sum(X[i,j]*beta[j] for j in range(p)),GRB.MINIMIZE)\n",
    "        # Constraint sets\n",
    "        const=sum(0.5*Quad[k,j]*beta[k]*beta[j] for k,j in product(range(p), repeat=2))\n",
    "        const-=sum(line[k]*beta[k] for k in range(p))\n",
    "        const+=0.5*entr\n",
    "        mvL.addConstr(const<=UB)\n",
    "        # Solve\n",
    "        mvL.params.OutputFlag=0\n",
    "        mvL.params.timelimit=60\n",
    "        mvL.params.mipgap=0.001\n",
    "        mvL.optimize()\n",
    "        downers.append(mvL.objVal)\n",
    "    Final_list=[]\n",
    "    for i in range(n):\n",
    "        if abs(uppers[i])>abs(downers[i]):\n",
    "            Final_list.append(abs(uppers[i]))\n",
    "        else: Final_list.append(abs(downers[i]))\n",
    "    return max(Final_list),sum(Final_list)\n",
    "    \n",
    "    \n",
    "def solve_bestsubset(Y,X,epsilon,k,type=True):\n",
    "    n,p=X.shape\n",
    "    beta_warmstart=solve_dis_alg(Y,X,epsilon,k)\n",
    "    if type:\n",
    "        UB=(np.linalg.norm(Y))**2\n",
    "        MU,ML=solve_First_Constraint(Y,X,UB)\n",
    "        regressor=gp.Model()\n",
    "        # Decision variables\n",
    "        beta=regressor.addVars(p,lb=-GRB.INFINITY,name='beta')\n",
    "        iszero=regressor.addVars(p,vtype=GRB.BINARY,name='iszero')\n",
    "        L1_beta=regressor.addVars(p,lb=-GRB.INFINITY,name='L1_beta')\n",
    "        # Objective Function\n",
    "        Quad=np.dot(X.T,X)\n",
    "        line=np.array(np.dot(Y.T,X))[0]\n",
    "        entr=float(np.dot(Y.T,Y))\n",
    "        obj=sum(0.5*Quad[k,j]*beta[k]*beta[j] for k,j in product(range(p), repeat=2))\n",
    "        obj-=sum(line[k]*beta[k] for k in range(p))\n",
    "        obj+=0.5*entr\n",
    "        regressor.setObjective(obj,GRB.MINIMIZE)\n",
    "        # Constraint Sets\n",
    "        for i in range(p):\n",
    "            regressor.addSOS(GRB.SOS_TYPE1,[beta[i],iszero[i]])\n",
    "            regressor.addConstr(L1_beta[i]>=0)\n",
    "            regressor.addConstr(beta[i]<=L1_beta[i])\n",
    "            regressor.addConstr(beta[i]>=-L1_beta[i])\n",
    "            regressor.addConstr(beta[i]<=MU)\n",
    "            regressor.addConstr(beta[i]>=-MU)\n",
    "        regressor.addConstr(L1_beta.sum()<=ML)\n",
    "        regressor.addConstr(iszero.sum()==p-k)\n",
    "        # warm start\n",
    "        if beta_warmstart is not None and len(beta_warmstart)==p:\n",
    "            for i in range(p):\n",
    "                iszero[i].start = (abs(beta_warmstart[i])<1e-6)\n",
    "        # Solve\n",
    "        regressor.params.OutputFlag=0\n",
    "        regressor.params.timelimit=60\n",
    "        regressor.params.mipgap=0.001\n",
    "        regressor.optimize()\n",
    "        betahat=np.array([beta[i].X for i in range(p)])\n",
    "        return betahat\n",
    "    else:\n",
    "        UB=2*(np.linalg.norm(Y))**2\n",
    "        UB_beta=2*(np.linalg.norm(beta_warmstart))**2\n",
    "        MU,ML=solve_First_Constraint(Y,X,UB)\n",
    "        MU_zeta,ML_zeta=solve_Second_Constraints(Y,X,UB)\n",
    "        regressor=gp.Model()\n",
    "        # Decision variables\n",
    "        beta=regressor.addVars(p,lb=-GRB.INFINITY,name='beta')\n",
    "        zeta=regressor.addVars(n,lb=-GRB.INFINITY,name='zeta')\n",
    "        iszero=regressor.addVars(p,vtype=GRB.BINARY,name='iszero')\n",
    "        L1_zeta=regressor.addVars(n,lb=-GRB.INFINITY,name='L1_zeta')\n",
    "        L1_beta=regressor.addVars(p,lb=-GRB.INFINITY,name='L1_beta')\n",
    "        #box_zeta=regressor.addVars(n,lb=-GRB.INFINITY,name='box_zeta')\n",
    "        #box_beta=regressor.addVars(p,lb=-GRB.INFINITY,name='boc_beta')\n",
    "        # Objective Function\n",
    "        line=np.dot(Y.T,X)[0]\n",
    "        entr=np.dot(Y.T,Y)\n",
    "        obj=sum(zeta[i]*zeta[i] for i in range(n))/2\n",
    "        obj-=sum(line[k]*beta[k] for k in range(p))\n",
    "        obj+=0.5*entr\n",
    "        regressor.setObjective(obj,GRB.MINIMIZE)\n",
    "        # Constraint Sets\n",
    "        for i in range(p):\n",
    "            regressor.addSOS(GRB.SOS_TYPE1,[beta[i],iszero[i]])\n",
    "            regressor.addConstr(L1_beta[i]>=0)\n",
    "            regressor.addConstr(beta[i]<=L1_beta[i])\n",
    "            regressor.addConstr(beta[i]>=-L1_beta[i])\n",
    "            regressor.addConstr(beta[i]<=MU)\n",
    "            regressor.addConstr(beta[i]>=-MU)\n",
    "            regressor.addConstr(beta[i]-beta_warmstart[i]<=box_beta[i])\n",
    "            regressor.addConstr(beta[i]-beta_warmstart[i]>=-box_beta[i])\n",
    "        for i in range(n):\n",
    "            regressor.addConstr(zeta[i]==sum(X[i,j]*beta[j] for j in range(p)))\n",
    "            regressor.addConstr(L1_zeta[i]>=0)\n",
    "            regressor.addConstr(zeta[i]<=L1_zeta[i])\n",
    "            regressor.addConstr(zeta[i]>=-L1_zeta[i])\n",
    "            regressor.addConstr(zeta[i]<=MU_zeta)\n",
    "            regressor.addConstr(zeta[i]>=-MU_zeta)\n",
    "            regressor.addConstr(zeta[i]-sum(X[i,j]*beta_warmstart[j] for j in range(p))>=-box_zeta[i])\n",
    "            regressor.addConstr(zeta[i]-sum(X[i,j]*beta_warmstart[j] for j in range(p))<=box_zeta[i])\n",
    "        regressor.addConstr(L1_zeta.sum()<=ML_zeta)\n",
    "        regressor.addConstr(L1_beta.sum()<=ML)\n",
    "        regressor.addConstr(box_beta.sum()<=UB_beta)\n",
    "        regressor.addConstr(box_zeta.sum()<=UB)\n",
    "        regressor.addConstr(iszero.sum()==p-k)\n",
    "        # warm start\n",
    "        if beta_warmstart is not None and len(beta_warmstart)==p:\n",
    "            for i in range(p):\n",
    "                iszero[i].start = (abs(beta_warmstart[i])<1e-6)\n",
    "        # Solve\n",
    "        regressor.params.OutputFlag=0\n",
    "        regressor.params.timelimit=60\n",
    "        regressor.params.mipgap=0.001\n",
    "        regressor.optimize()\n",
    "        betahat=np.array([beta[i].X for i in range(p)])\n",
    "        return betahat\n",
    "    \n",
    "# Another BSS\n",
    "def solve_simple_bss(Y,X,epsilon,k):\n",
    "    n,p=X.shape\n",
    "    beta_warmstart=solve_dis_alg(Y,X,epsilon,k)\n",
    "    regressor=gp.Model()\n",
    "    # Decision variables\n",
    "    beta=regressor.addVars(p,lb=-GRB.INFINITY,name='beta')\n",
    "    zeta=regressor.addVars(n,lb=-GRB.INFINITY,name='zeta')\n",
    "    iszero=regressor.addVars(p,vtype=GRB.BINARY,name='iszero')\n",
    "    # Objective Function\n",
    "    line=np.array(np.dot(Y.T,X))[0]\n",
    "    entr=np.dot(Y.T,Y)\n",
    "    obj=sum(zeta[i]*zeta[i] for i in range(n))/2\n",
    "    obj-=sum(line[k]*beta[k] for k in range(p))\n",
    "    obj+=0.5*entr\n",
    "    regressor.setObjective(obj,GRB.MINIMIZE)\n",
    "    # Constraint Sets\n",
    "    for i in range(p):\n",
    "        regressor.addSOS(GRB.SOS_TYPE1,[beta[i],iszero[i]])\n",
    "    for i in range(n):\n",
    "        regressor.addConstr(zeta[i]==sum(X[i,j]*beta[j] for j in range(p)))\n",
    "    regressor.addConstr(iszero.sum()==p-k)\n",
    "    # warm start\n",
    "    if beta_warmstart is not None and len(beta_warmstart)==p:\n",
    "        for i in range(p):\n",
    "            iszero[i].start = (abs(beta_warmstart[i])<1e-6)\n",
    "    # Solve\n",
    "    regressor.params.OutputFlag=0\n",
    "    regressor.params.timelimit=60\n",
    "    regressor.params.mipgap=0.001\n",
    "    regressor.optimize()\n",
    "    betahat=np.array([beta[i].X for i in range(p)])\n",
    "    return betahat"
   ]
  },
  {
   "cell_type": "markdown",
   "metadata": {},
   "source": [
    "### Function: Solving $Lasso$"
   ]
  },
  {
   "cell_type": "code",
   "execution_count": 4,
   "metadata": {},
   "outputs": [],
   "source": [
    "def Lasso(Y,X,nu):\n",
    "    lambd=np.linalg.norm(Y)*nu\n",
    "    n=X.shape[0]\n",
    "    p=X.shape[1]\n",
    "    beta_old=np.matrix(np.zeros(p)).T\n",
    "    beta_new=np.matrix(np.ones(p)).T\n",
    "    while (beta_new-beta_old).T.dot(beta_new-beta_old)>0.01:\n",
    "        beta_old=beta_new\n",
    "        beta_new=np.zeros(p)\n",
    "        for j in range(p):\n",
    "            rho=0\n",
    "            for i in range(n):\n",
    "                rho+=X[i,j]*(Y[i]-X[i,].dot(beta_old)+X[i,j]*beta_old[j])\n",
    "            z=X[:,j].T.dot(X[:,j])\n",
    "            if rho<-lambd/2: \n",
    "                beta_new[j]=(rho+lambd/2)/z\n",
    "            elif rho>=-lambd/2 and rho<=lambd/2:\n",
    "                beta_new[j]=0\n",
    "            elif rho>lambd/2:\n",
    "                beta_new[j]=(rho-lambd/2)/z\n",
    "        beta_new=np.matrix(beta_new).T\n",
    "    return list(np.array(beta_new.T)[0])"
   ]
  },
  {
   "cell_type": "markdown",
   "metadata": {},
   "source": [
    "### Function: Metrics--FDR,TPR"
   ]
  },
  {
   "cell_type": "code",
   "execution_count": 5,
   "metadata": {},
   "outputs": [],
   "source": [
    "def FDR(betahat,beta0):\n",
    "    p=len(list(beta0))\n",
    "    if np.flatnonzero(betahat).shape[0]==0:\n",
    "        print('False prediction!')\n",
    "        return\n",
    "    score=0\n",
    "    for i in range(p):\n",
    "        if betahat[i]!=0 and beta0[i]==0:\n",
    "            score=score+1\n",
    "    return score/(np.flatnonzero(betahat).shape[0])\n",
    "def TPR(betahat,beta0):\n",
    "    p=len(list(beta0))\n",
    "    score=0\n",
    "    for i in range(p):\n",
    "        if betahat[i]!=0 and beta0[i]!=0:\n",
    "            score=score+1\n",
    "    return score/(np.flatnonzero(beta0).shape[0])"
   ]
  },
  {
   "cell_type": "markdown",
   "metadata": {},
   "source": [
    "### Test BSS"
   ]
  },
  {
   "cell_type": "code",
   "execution_count": null,
   "metadata": {},
   "outputs": [],
   "source": []
  },
  {
   "cell_type": "markdown",
   "metadata": {},
   "source": [
    "### Test Lasso"
   ]
  },
  {
   "cell_type": "code",
   "execution_count": 17,
   "metadata": {},
   "outputs": [
    {
     "ename": "KeyboardInterrupt",
     "evalue": "",
     "output_type": "error",
     "traceback": [
      "\u001b[1;31m---------------------------------------------------------------------------\u001b[0m",
      "\u001b[1;31mKeyboardInterrupt\u001b[0m                         Traceback (most recent call last)",
      "\u001b[1;32m<ipython-input-17-6c206a8d79c9>\u001b[0m in \u001b[0;36m<module>\u001b[1;34m\u001b[0m\n\u001b[0;32m      1\u001b[0m \u001b[0mbeta0\u001b[0m\u001b[1;33m=\u001b[0m\u001b[0mnp\u001b[0m\u001b[1;33m.\u001b[0m\u001b[0mmatrix\u001b[0m\u001b[1;33m(\u001b[0m\u001b[0mnp\u001b[0m\u001b[1;33m.\u001b[0m\u001b[0marray\u001b[0m\u001b[1;33m(\u001b[0m\u001b[0mlist\u001b[0m\u001b[1;33m(\u001b[0m\u001b[0mnp\u001b[0m\u001b[1;33m.\u001b[0m\u001b[0mones\u001b[0m\u001b[1;33m(\u001b[0m\u001b[1;36m5\u001b[0m\u001b[1;33m)\u001b[0m\u001b[1;33m)\u001b[0m\u001b[1;33m+\u001b[0m\u001b[0mlist\u001b[0m\u001b[1;33m(\u001b[0m\u001b[0mnp\u001b[0m\u001b[1;33m.\u001b[0m\u001b[0mzeros\u001b[0m\u001b[1;33m(\u001b[0m\u001b[1;36m5\u001b[0m\u001b[1;33m)\u001b[0m\u001b[1;33m)\u001b[0m\u001b[1;33m)\u001b[0m\u001b[1;33m)\u001b[0m\u001b[1;33m.\u001b[0m\u001b[0mT\u001b[0m\u001b[1;33m\u001b[0m\u001b[1;33m\u001b[0m\u001b[0m\n\u001b[0;32m      2\u001b[0m \u001b[0mX\u001b[0m\u001b[1;33m,\u001b[0m\u001b[0mY\u001b[0m\u001b[1;33m=\u001b[0m\u001b[0mgnrt_normal\u001b[0m\u001b[1;33m(\u001b[0m\u001b[1;36m100\u001b[0m\u001b[1;33m,\u001b[0m\u001b[1;36m10\u001b[0m\u001b[1;33m,\u001b[0m\u001b[1;36m0.35\u001b[0m\u001b[1;33m,\u001b[0m\u001b[1;36m10\u001b[0m\u001b[1;33m,\u001b[0m\u001b[0mbeta0\u001b[0m\u001b[1;33m)\u001b[0m\u001b[1;33m\u001b[0m\u001b[1;33m\u001b[0m\u001b[0m\n\u001b[1;32m----> 3\u001b[1;33m \u001b[0mbeta_lasso\u001b[0m\u001b[1;33m=\u001b[0m\u001b[0mLasso\u001b[0m\u001b[1;33m(\u001b[0m\u001b[0mY\u001b[0m\u001b[1;33m,\u001b[0m\u001b[0mX\u001b[0m\u001b[1;33m,\u001b[0m\u001b[1;36m1\u001b[0m\u001b[1;33m)\u001b[0m\u001b[1;33m\u001b[0m\u001b[1;33m\u001b[0m\u001b[0m\n\u001b[0m\u001b[0;32m      4\u001b[0m \u001b[0mprint\u001b[0m\u001b[1;33m(\u001b[0m\u001b[0mbeta_lasso\u001b[0m\u001b[1;33m)\u001b[0m\u001b[1;33m\u001b[0m\u001b[1;33m\u001b[0m\u001b[0m\n",
      "\u001b[1;32m<ipython-input-16-407b5a9fc361>\u001b[0m in \u001b[0;36mLasso\u001b[1;34m(Y, X, nu)\u001b[0m\n\u001b[0;32m     11\u001b[0m             \u001b[0mrho\u001b[0m\u001b[1;33m=\u001b[0m\u001b[1;36m0\u001b[0m\u001b[1;33m\u001b[0m\u001b[1;33m\u001b[0m\u001b[0m\n\u001b[0;32m     12\u001b[0m             \u001b[1;32mfor\u001b[0m \u001b[0mi\u001b[0m \u001b[1;32min\u001b[0m \u001b[0mrange\u001b[0m\u001b[1;33m(\u001b[0m\u001b[0mn\u001b[0m\u001b[1;33m)\u001b[0m\u001b[1;33m:\u001b[0m\u001b[1;33m\u001b[0m\u001b[1;33m\u001b[0m\u001b[0m\n\u001b[1;32m---> 13\u001b[1;33m                 \u001b[0mrho\u001b[0m\u001b[1;33m+=\u001b[0m\u001b[0mX\u001b[0m\u001b[1;33m[\u001b[0m\u001b[0mi\u001b[0m\u001b[1;33m,\u001b[0m\u001b[0mj\u001b[0m\u001b[1;33m]\u001b[0m\u001b[1;33m*\u001b[0m\u001b[1;33m(\u001b[0m\u001b[0mY\u001b[0m\u001b[1;33m[\u001b[0m\u001b[0mi\u001b[0m\u001b[1;33m]\u001b[0m\u001b[1;33m-\u001b[0m\u001b[0mX\u001b[0m\u001b[1;33m[\u001b[0m\u001b[0mi\u001b[0m\u001b[1;33m,\u001b[0m\u001b[1;33m]\u001b[0m\u001b[1;33m.\u001b[0m\u001b[0mdot\u001b[0m\u001b[1;33m(\u001b[0m\u001b[0mbeta_old\u001b[0m\u001b[1;33m)\u001b[0m\u001b[1;33m+\u001b[0m\u001b[0mX\u001b[0m\u001b[1;33m[\u001b[0m\u001b[0mi\u001b[0m\u001b[1;33m,\u001b[0m\u001b[0mj\u001b[0m\u001b[1;33m]\u001b[0m\u001b[1;33m*\u001b[0m\u001b[0mbeta_old\u001b[0m\u001b[1;33m[\u001b[0m\u001b[0mj\u001b[0m\u001b[1;33m]\u001b[0m\u001b[1;33m)\u001b[0m\u001b[1;33m\u001b[0m\u001b[1;33m\u001b[0m\u001b[0m\n\u001b[0m\u001b[0;32m     14\u001b[0m             \u001b[0mz\u001b[0m\u001b[1;33m=\u001b[0m\u001b[0mX\u001b[0m\u001b[1;33m[\u001b[0m\u001b[1;33m:\u001b[0m\u001b[1;33m,\u001b[0m\u001b[0mj\u001b[0m\u001b[1;33m]\u001b[0m\u001b[1;33m.\u001b[0m\u001b[0mT\u001b[0m\u001b[1;33m.\u001b[0m\u001b[0mdot\u001b[0m\u001b[1;33m(\u001b[0m\u001b[0mX\u001b[0m\u001b[1;33m[\u001b[0m\u001b[1;33m:\u001b[0m\u001b[1;33m,\u001b[0m\u001b[0mj\u001b[0m\u001b[1;33m]\u001b[0m\u001b[1;33m)\u001b[0m\u001b[1;33m\u001b[0m\u001b[1;33m\u001b[0m\u001b[0m\n\u001b[0;32m     15\u001b[0m             \u001b[1;32mif\u001b[0m \u001b[1;33m-\u001b[0m\u001b[0mrho\u001b[0m\u001b[1;33m>\u001b[0m\u001b[0mlambd\u001b[0m\u001b[1;33m/\u001b[0m\u001b[1;36m2\u001b[0m\u001b[1;33m:\u001b[0m\u001b[1;33m\u001b[0m\u001b[1;33m\u001b[0m\u001b[0m\n",
      "\u001b[1;31mKeyboardInterrupt\u001b[0m: "
     ]
    }
   ],
   "source": [
    "beta0=np.matrix(np.array(list(np.ones(5))+list(np.zeros(5)))).T\n",
    "X,Y=gnrt_normal(100,10,0.35,10,beta0)\n",
    "beta_lasso=Lasso(Y,X,1)\n",
    "print(beta_lasso)"
   ]
  },
  {
   "cell_type": "markdown",
   "metadata": {},
   "source": [
    "### Test Plot "
   ]
  },
  {
   "cell_type": "code",
   "execution_count": 6,
   "metadata": {},
   "outputs": [
    {
     "name": "stdout",
     "output_type": "stream",
     "text": [
      "<class 'numpy.ndarray'>\n",
      "<class 'numpy.ndarray'>\n"
     ]
    },
    {
     "data": {
      "image/png": "[encoded data removed]",
      "text/plain": [
       "<Figure size 1080x576 with 1 Axes>"
      ]
     },
     "metadata": {
      "needs_background": "light"
     },
     "output_type": "display_data"
    }
   ],
   "source": [
    "a=np.linspace(0.1,0.6,7)\n",
    "print(type(a))\n",
    "e=[3,2,1,4,5,7,6]\n",
    "b=[0.1,0.2,0.3,0.1,0.2,0.1,0.1]\n",
    "print(type(np.array(b)))\n",
    "c=np.exp(a)\n",
    "d=[3,2,1,4,5,7,6]\n",
    "f=np.sort(d)\n",
    "plt.figure(figsize=(15, 8))\n",
    "plt.scatter(e,d,s=200,marker='v',label='Lasso')\n",
    "plt.scatter(e,c,s=200,marker='*',label='BSS')\n",
    "plt.legend(loc='upper right')\n",
    "plt.ylim((0,8))\n",
    "plt.xticks(fontproperties='Times New Roman',size=17)\n",
    "plt.yticks(fontproperties='Times New Roman',size=14)\n",
    "plt.xlabel('Signal-to-Noise Ratio(log)',fontdict={'family':'Times New Roman','size':16})\n",
    "plt.ylabel('FDR',fontdict={'family':'Times New Roman','size':16})\n",
    "plt.grid(True)\n",
    "plt.show()"
   ]
  },
  {
   "cell_type": "markdown",
   "metadata": {},
   "source": [
    "### Actual Tests"
   ]
  },
  {
   "cell_type": "code",
   "execution_count": 7,
   "metadata": {},
   "outputs": [],
   "source": [
    "# Set k levels\n",
    "klow=[1,2,3,4,5,6,7,8,9,10]\n",
    "kmed=[1,2,3,4,5,7,9,11,15,20]\n",
    "# Set $\\nu$ levels"
   ]
  },
  {
   "cell_type": "markdown",
   "metadata": {},
   "source": [
    "#### Test1: Low Setting, High-Noise, $\\rho$ = 0.35"
   ]
  },
  {
   "cell_type": "code",
   "execution_count": 8,
   "metadata": {},
   "outputs": [
    {
     "name": "stdout",
     "output_type": "stream",
     "text": [
      "Using license file C:\\Users\\user\\gurobi.lic\n",
      "Academic license - for non-commercial use only\n",
      "0 1 2 3 4 5 6 7 8 9 \n",
      "\n",
      "FDR_1: [0.0, 0.0, 0.0, 0.075, 0.28, 0.2833333333333333, 0.45714285714285713, 0.525, 0.5333333333333334, 0.54]\n",
      "TPR_1: [0.2, 0.4, 0.5999999999999999, 0.74, 0.72, 0.8600000000000001, 0.76, 0.76, 0.8400000000000001, 0.9199999999999999]\n"
     ]
    }
   ],
   "source": [
    "# BSS\n",
    "# Store FDR and TPR\n",
    "TPR_1=[]\n",
    "FDR_1=[]\n",
    "# Set generate parameters \n",
    "n=100\n",
    "p=50\n",
    "beta0=np.matrix(np.array(list(np.ones(5))+list(np.zeros(45)))).T\n",
    "snr=10**0.05\n",
    "rho=0.35\n",
    "# Test\n",
    "for i in range(10):\n",
    "    TPR_1_temp=[]\n",
    "    FDR_1_temp=[]\n",
    "    for j in range(10):\n",
    "        X,Y=gnrt_normal(n,p,rho,snr,beta0)\n",
    "        try:\n",
    "            beta_bestsubset=solve_bestsubset(Y,X,0.01,klow[i])\n",
    "            if len(beta_bestsubset)>0:\n",
    "                TPR_1_temp.append(TPR(beta_bestsubset,beta0))\n",
    "                FDR_1_temp.append(FDR(beta_bestsubset,beta0))\n",
    "        except AttributeError:\n",
    "            print('F')\n",
    "    TPR_1.append(np.mean(TPR_1_temp))\n",
    "    FDR_1.append(np.mean(FDR_1_temp))\n",
    "    print(i,end=' ')\n",
    "print('\\n')\n",
    "print('FDR_1:',FDR_1)\n",
    "print('TPR_1:',TPR_1)"
   ]
  },
  {
   "cell_type": "code",
   "execution_count": 21,
   "metadata": {},
   "outputs": [],
   "source": [
    "# Lasso\n"
   ]
  },
  {
   "cell_type": "code",
   "execution_count": 32,
   "metadata": {},
   "outputs": [
    {
     "data": {
      "image/png": "[encoded data removed]",
      "text/plain": [
       "<Figure size 1080x576 with 1 Axes>"
      ]
     },
     "metadata": {
      "needs_background": "light"
     },
     "output_type": "display_data"
    }
   ],
   "source": [
    "# Plot\n",
    "FDR_1_knock=[0.147,0.166,0.185,0.245,0.303,0.301,0.263,0.320,0.352,0.376]\n",
    "TPR_1_knock=[0.576,0.504,0.554,0.646,0.774,0.752,0.712,0.696,0.710,0.78]\n",
    "plt.figure(figsize=(15, 8))\n",
    "plt.scatter(FDR_1_knock,TPR_1_knock,alpha=0.5,s=200,marker='v',label='Knockoff')\n",
    "plt.scatter(FDR_1,TPR_1,s=200,alpha=0.5,c='r',marker='o',label='BSS')\n",
    "plt.legend(loc='upper right')\n",
    "plt.ylim((0,1.2))\n",
    "plt.xticks(fontproperties='Times New Roman',size=17)\n",
    "plt.yticks(fontproperties='Times New Roman',size=14)\n",
    "plt.xlabel('FDR',fontdict={'family':'Times New Roman','size':16})\n",
    "plt.ylabel('TPR',fontdict={'family':'Times New Roman','size':16})\n",
    "plt.grid(True)\n",
    "plt.show()"
   ]
  },
  {
   "cell_type": "markdown",
   "metadata": {},
   "source": [
    "#### Test2: Low Setting, High-Noise, $\\rho$ = 0.70"
   ]
  },
  {
   "cell_type": "code",
   "execution_count": 9,
   "metadata": {},
   "outputs": [
    {
     "name": "stdout",
     "output_type": "stream",
     "text": [
      "0 1 2 3 4 5 6 7 8 9 \n",
      "\n",
      "FDR_2: [0.0, 0.05, 0.16666666666666666, 0.425, 0.4600000000000001, 0.4833333333333334, 0.6142857142857142, 0.675, 0.6444444444444445, 0.7]\n",
      "TPR_2: [0.2, 0.38, 0.5, 0.45999999999999996, 0.5399999999999999, 0.6200000000000001, 0.54, 0.52, 0.6399999999999999, 0.6]\n"
     ]
    }
   ],
   "source": [
    "# BSS\n",
    "# Store FDR and TPR\n",
    "TPR_2=[]\n",
    "FDR_2=[]\n",
    "# Set generate parameters \n",
    "n=100\n",
    "p=50\n",
    "beta0=np.matrix(np.array(list(np.ones(5))+list(np.zeros(45)))).T\n",
    "snr=10**0.05\n",
    "rho=0.7\n",
    "# Test\n",
    "for i in range(10):\n",
    "    TPR_2_temp=[]\n",
    "    FDR_2_temp=[]\n",
    "    for j in range(10):\n",
    "        X,Y=gnrt_normal(n,p,rho,snr,beta0)\n",
    "        try:\n",
    "            beta_bestsubset=solve_bestsubset(Y,X,0.01,klow[i])\n",
    "            if len(beta_bestsubset)>0:\n",
    "                TPR_2_temp.append(TPR(beta_bestsubset,beta0))\n",
    "                FDR_2_temp.append(FDR(beta_bestsubset,beta0))\n",
    "        except AttributeError:\n",
    "            print('F')\n",
    "    TPR_2.append(np.mean(TPR_2_temp))\n",
    "    FDR_2.append(np.mean(FDR_2_temp))\n",
    "    print(i,end=' ')\n",
    "print('\\n')\n",
    "print('FDR_2:',FDR_2)\n",
    "print('TPR_2:',TPR_2)"
   ]
  },
  {
   "cell_type": "code",
   "execution_count": null,
   "metadata": {},
   "outputs": [],
   "source": [
    "# Lasso"
   ]
  },
  {
   "cell_type": "code",
   "execution_count": 33,
   "metadata": {},
   "outputs": [
    {
     "data": {
      "image/png": "[encoded data removed]",
      "text/plain": [
       "<Figure size 1080x576 with 1 Axes>"
      ]
     },
     "metadata": {
      "needs_background": "light"
     },
     "output_type": "display_data"
    }
   ],
   "source": [
    "# Plot\n",
    "FDR_2_knock=[0.08886,0.0948,0.1053,0.1554,0.1875,0.15426,0.1863,0.2007,0.2206,0.23535]\n",
    "TPR_2_knock=[0.254,0.272,0.348,0.346,0.450,0.406,0.380,0.464,0.434,0.474]\n",
    "plt.figure(figsize=(15, 8))\n",
    "plt.scatter(FDR_2_knock,TPR_2_knock,alpha=0.5,s=200,marker='v',label='Knockoff')\n",
    "plt.scatter(FDR_2,TPR_2,s=200,alpha=0.5,c='r',marker='o',label='BSS')\n",
    "plt.legend(loc='upper right')\n",
    "plt.ylim((0,1.2))\n",
    "plt.xticks(fontproperties='Times New Roman',size=17)\n",
    "plt.yticks(fontproperties='Times New Roman',size=14)\n",
    "plt.xlabel('FDR',fontdict={'family':'Times New Roman','size':16})\n",
    "plt.ylabel('TPR',fontdict={'family':'Times New Roman','size':16})\n",
    "plt.grid(True)\n",
    "plt.show()"
   ]
  },
  {
   "cell_type": "markdown",
   "metadata": {},
   "source": [
    "#### Test3: Low Setting, Medium-Noise, $\\rho$ = 0.35"
   ]
  },
  {
   "cell_type": "code",
   "execution_count": 10,
   "metadata": {},
   "outputs": [
    {
     "name": "stdout",
     "output_type": "stream",
     "text": [
      "0 1 2 3 4 5 6 7 8 9 \n",
      "\n",
      "FDR_3: [0.0, 0.0, 0.0, 0.0, 0.0, 0.16666666666666669, 0.2857142857142857, 0.375, 0.4444444444444445, 0.5]\n",
      "TPR_3: [0.2, 0.4, 0.5999999999999999, 0.8, 1.0, 1.0, 1.0, 1.0, 1.0, 1.0]\n"
     ]
    }
   ],
   "source": [
    "# BSS\n",
    "# Store FDR and TPR\n",
    "TPR_3=[]\n",
    "FDR_3=[]\n",
    "# Set generate parameters \n",
    "n=100\n",
    "p=50\n",
    "beta0=np.matrix(np.array(list(np.ones(5))+list(np.zeros(45)))).T\n",
    "snr=10\n",
    "rho=0.35\n",
    "# Test\n",
    "for i in range(10):\n",
    "    TPR_3_temp=[]\n",
    "    FDR_3_temp=[]\n",
    "    for j in range(10):\n",
    "        X,Y=gnrt_normal(n,p,rho,snr,beta0)\n",
    "        try:\n",
    "            beta_bestsubset=solve_bestsubset(Y,X,0.01,klow[i])\n",
    "            if len(beta_bestsubset)>0:\n",
    "                TPR_3_temp.append(TPR(beta_bestsubset,beta0))\n",
    "                FDR_3_temp.append(FDR(beta_bestsubset,beta0))\n",
    "        except AttributeError:\n",
    "            print('F')\n",
    "    TPR_3.append(np.mean(TPR_3_temp))\n",
    "    FDR_3.append(np.mean(FDR_3_temp))\n",
    "    print(i,end=' ')\n",
    "print('\\n')\n",
    "print('FDR_3:',FDR_3)\n",
    "print('TPR_3:',TPR_3)"
   ]
  },
  {
   "cell_type": "code",
   "execution_count": null,
   "metadata": {},
   "outputs": [],
   "source": [
    "# Lasso"
   ]
  },
  {
   "cell_type": "code",
   "execution_count": 34,
   "metadata": {},
   "outputs": [
    {
     "data": {
      "image/png": "[encoded data removed]",
      "text/plain": [
       "<Figure size 1080x576 with 1 Axes>"
      ]
     },
     "metadata": {
      "needs_background": "light"
     },
     "output_type": "display_data"
    }
   ],
   "source": [
    "# Plot\n",
    "FDR_3_knock=[0.24121,0.24068,0.24037,0.25581,0.3421046,0.3107,0.3228156,0.37722075,0.3582164,0.4291967]\n",
    "TPR_3_knock=[0.812,0.838,0.862,0.8,0.874,0.910,0.918,0.914,0.936,0.922]\n",
    "plt.figure(figsize=(15, 8))\n",
    "plt.scatter(FDR_3_knock,TPR_3_knock,alpha=0.5,s=200,marker='v',label='Knockoff')\n",
    "plt.scatter(FDR_3,TPR_3,s=200,alpha=0.5,c='r',marker='o',label='BSS')\n",
    "plt.legend(loc='upper right')\n",
    "plt.ylim((0,1.2))\n",
    "plt.xticks(fontproperties='Times New Roman',size=17)\n",
    "plt.yticks(fontproperties='Times New Roman',size=14)\n",
    "plt.xlabel('FDR',fontdict={'family':'Times New Roman','size':16})\n",
    "plt.ylabel('TPR',fontdict={'family':'Times New Roman','size':16})\n",
    "plt.grid(True)\n",
    "plt.show()"
   ]
  },
  {
   "cell_type": "markdown",
   "metadata": {},
   "source": [
    "#### Test4: Low Setting, Medium-Noise, $\\rho$ = 0.70"
   ]
  },
  {
   "cell_type": "code",
   "execution_count": 11,
   "metadata": {},
   "outputs": [
    {
     "name": "stdout",
     "output_type": "stream",
     "text": [
      "0 1 2 3 4 5 6 7 8 9 \n",
      "\n",
      "FDR_4: [0.0, 0.0, 0.0, 0.0, 0.02, 0.16666666666666669, 0.2857142857142857, 0.3875, 0.4444444444444445, 0.5]\n",
      "TPR_4: [0.2, 0.4, 0.5999999999999999, 0.8, 0.9800000000000001, 1.0, 1.0, 0.9800000000000001, 1.0, 1.0]\n"
     ]
    }
   ],
   "source": [
    "# BSS\n",
    "# Store FDR and TPR\n",
    "TPR_4=[]\n",
    "FDR_4=[]\n",
    "# Set generate parameters \n",
    "n=100\n",
    "p=50\n",
    "beta0=np.matrix(np.array(list(np.ones(5))+list(np.zeros(45)))).T\n",
    "snr=10\n",
    "rho=0.7\n",
    "# Test\n",
    "for i in range(10):\n",
    "    TPR_4_temp=[]\n",
    "    FDR_4_temp=[]\n",
    "    for j in range(10):\n",
    "        X,Y=gnrt_normal(n,p,rho,snr,beta0)\n",
    "        try:\n",
    "            beta_bestsubset=solve_bestsubset(Y,X,0.0001,klow[i])\n",
    "            if len(beta_bestsubset)>0:\n",
    "                TPR_4_temp.append(TPR(beta_bestsubset,beta0))\n",
    "                FDR_4_temp.append(FDR(beta_bestsubset,beta0))\n",
    "        except AttributeError:\n",
    "            print('F')\n",
    "    TPR_4.append(np.mean(TPR_4_temp))\n",
    "    FDR_4.append(np.mean(FDR_4_temp))\n",
    "    print(i,end=' ')\n",
    "print('\\n')\n",
    "print('FDR_4:',FDR_4)\n",
    "print('TPR_4:',TPR_4)"
   ]
  },
  {
   "cell_type": "code",
   "execution_count": null,
   "metadata": {},
   "outputs": [],
   "source": [
    "# Lasso"
   ]
  },
  {
   "cell_type": "code",
   "execution_count": 36,
   "metadata": {},
   "outputs": [
    {
     "data": {
      "image/png": "[encoded data removed]",
      "text/plain": [
       "<Figure size 1080x576 with 1 Axes>"
      ]
     },
     "metadata": {
      "needs_background": "light"
     },
     "output_type": "display_data"
    }
   ],
   "source": [
    "# Plot\n",
    "FDR_4_knock=[0.02821429,0.03508,0.04237,0.042434,0.05169,0.0299,0.04507488,0.048937,0.059584,0.05658009]\n",
    "TPR_4_knock=[0.11,0.106,0.176,0.130,0.150,0.138,0.144,0.152,0.164,0.148]\n",
    "plt.figure(figsize=(15, 8))\n",
    "plt.scatter(FDR_4_knock,TPR_4_knock,alpha=0.5,s=200,marker='v',label='Knockoff')\n",
    "plt.scatter(FDR_4,TPR_4,s=200,alpha=0.5,c='r',marker='o',label='BSS')\n",
    "plt.legend(loc='upper right')\n",
    "plt.ylim((0,1.2))\n",
    "plt.xticks(fontproperties='Times New Roman',size=17)\n",
    "plt.yticks(fontproperties='Times New Roman',size=14)\n",
    "plt.xlabel('FDR',fontdict={'family':'Times New Roman','size':16})\n",
    "plt.ylabel('TPR',fontdict={'family':'Times New Roman','size':16})\n",
    "plt.grid(True)\n",
    "plt.show()"
   ]
  },
  {
   "cell_type": "markdown",
   "metadata": {},
   "source": [
    "#### Test5: Low Setting, Low-Noise, $\\rho$ = 0.35"
   ]
  },
  {
   "cell_type": "code",
   "execution_count": 12,
   "metadata": {},
   "outputs": [
    {
     "name": "stdout",
     "output_type": "stream",
     "text": [
      "0 1 2 3 4 5 6 7 8 9 \n",
      "\n",
      "FDR_5: [0.0, 0.0, 0.0, 0.0, 0.16964285714285712, 0.16666666666666669, 0.3214285714285714, 0.44305555555555554, 0.5, 0.5568181818181818]\n",
      "TPR_5: [0.2, 0.4, 0.5999999999999999, 0.8, 1.0, 1.0, 1.0, 1.0, 1.0, 1.0]\n"
     ]
    }
   ],
   "source": [
    "# BSS\n",
    "# Store FDR and TPR\n",
    "TPR_5=[]\n",
    "FDR_5=[]\n",
    "# Set generate parameters \n",
    "n=100\n",
    "p=50\n",
    "beta0=np.matrix(np.array(list(np.ones(5))+list(np.zeros(45)))).T\n",
    "snr=10**6\n",
    "rho=0.35\n",
    "# Test\n",
    "for i in range(10):\n",
    "    TPR_5_temp=[]\n",
    "    FDR_5_temp=[]\n",
    "    for j in range(10):\n",
    "        X,Y=gnrt_normal(n,p,rho,snr,beta0)\n",
    "        try:\n",
    "            beta_bestsubset=solve_bestsubset(Y,X,0.0001,klow[i])\n",
    "            if len(beta_bestsubset)>0:\n",
    "                TPR_5_temp.append(TPR(beta_bestsubset,beta0))\n",
    "                FDR_5_temp.append(FDR(beta_bestsubset,beta0))\n",
    "        except AttributeError:\n",
    "            print('F')\n",
    "    TPR_5.append(np.mean(TPR_5_temp))\n",
    "    FDR_5.append(np.mean(FDR_5_temp))\n",
    "    print(i,end=' ')\n",
    "print('\\n')\n",
    "print('FDR_5:',FDR_5)\n",
    "print('TPR_5:',TPR_5)"
   ]
  },
  {
   "cell_type": "code",
   "execution_count": null,
   "metadata": {},
   "outputs": [],
   "source": [
    "# Lasso"
   ]
  },
  {
   "cell_type": "code",
   "execution_count": 38,
   "metadata": {},
   "outputs": [
    {
     "data": {
      "image/png": "[encoded data removed]",
      "text/plain": [
       "<Figure size 1080x576 with 1 Axes>"
      ]
     },
     "metadata": {
      "needs_background": "light"
     },
     "output_type": "display_data"
    }
   ],
   "source": [
    "# Plot\n",
    "FDR_5_knock=[0.02208,0.01,0.0152,0.01845,0.01608,0.01485,0.02304,0.01694048,0.02533,0.032523]\n",
    "TPR_5_knock=[0.826,0.752,0.808,0.824,0.928,0.890,0.912,0.916,0.946,0.94]\n",
    "plt.figure(figsize=(15, 8))\n",
    "plt.scatter(FDR_5_knock,TPR_5_knock,alpha=0.5,s=200,marker='v',label='Knockoff')\n",
    "plt.scatter(FDR_5,TPR_5,s=200,alpha=0.5,c='r',marker='o',label='BSS')\n",
    "plt.legend(loc='upper right')\n",
    "plt.ylim((0,1.2))\n",
    "plt.xticks(fontproperties='Times New Roman',size=17)\n",
    "plt.yticks(fontproperties='Times New Roman',size=14)\n",
    "plt.xlabel('FDR',fontdict={'family':'Times New Roman','size':16})\n",
    "plt.ylabel('TPR',fontdict={'family':'Times New Roman','size':16})\n",
    "plt.grid(True)\n",
    "plt.show()"
   ]
  },
  {
   "cell_type": "markdown",
   "metadata": {},
   "source": [
    "#### Test6: Low Setting, Low-Noise, $\\rho$ = 0.70"
   ]
  },
  {
   "cell_type": "code",
   "execution_count": 13,
   "metadata": {},
   "outputs": [
    {
     "name": "stdout",
     "output_type": "stream",
     "text": [
      "0 1 2 3 4 5 6 7 8 9 \n",
      "\n",
      "FDR_6: [0.0, 0.0, 0.0, 0.0, 0.05714285714285714, 0.16666666666666669, 0.2857142857142857, 0.46565656565656566, 0.498989898989899, 0.5568181818181818]\n",
      "TPR_6: [0.2, 0.4, 0.5999999999999999, 0.8, 1.0, 1.0, 1.0, 1.0, 1.0, 1.0]\n"
     ]
    }
   ],
   "source": [
    "# BSS\n",
    "# Store FDR and TPR\n",
    "TPR_6=[]\n",
    "FDR_6=[]\n",
    "# Set generate parameters \n",
    "n=100\n",
    "p=50\n",
    "beta0=np.matrix(np.array(list(np.ones(5))+list(np.zeros(45)))).T\n",
    "snr=10**6\n",
    "rho=0.7\n",
    "# Test\n",
    "for i in range(10):\n",
    "    TPR_6_temp=[]\n",
    "    FDR_6_temp=[]\n",
    "    for j in range(10):\n",
    "        X,Y=gnrt_normal(n,p,rho,snr,beta0)\n",
    "        try:\n",
    "            beta_bestsubset=solve_bestsubset(Y,X,0.0001,klow[i])\n",
    "            if len(beta_bestsubset)>0:\n",
    "                TPR_6_temp.append(TPR(beta_bestsubset,beta0))\n",
    "                FDR_6_temp.append(FDR(beta_bestsubset,beta0))\n",
    "        except AttributeError:\n",
    "            print('F')\n",
    "    TPR_6.append(np.mean(TPR_6_temp))\n",
    "    FDR_6.append(np.mean(FDR_6_temp))\n",
    "    print(i,end=' ')\n",
    "print('\\n')\n",
    "print('FDR_6:',FDR_6)\n",
    "print('TPR_6:',TPR_6)"
   ]
  },
  {
   "cell_type": "code",
   "execution_count": null,
   "metadata": {},
   "outputs": [],
   "source": [
    "# Lasso"
   ]
  },
  {
   "cell_type": "code",
   "execution_count": 40,
   "metadata": {},
   "outputs": [
    {
     "data": {
      "image/png": "[encoded data removed]",
      "text/plain": [
       "<Figure size 1080x576 with 1 Axes>"
      ]
     },
     "metadata": {
      "needs_background": "light"
     },
     "output_type": "display_data"
    }
   ],
   "source": [
    "# Plot\n",
    "FDR_6_knock=[0.00167,0.003333,0.007,0.010190476,0.0106667,0.006523810,0.009761,0.02425641,0.007857143,0.02213]\n",
    "TPR_6_knock=[0.756,0.778,0.754,0.778,0.922,0.888,0.876,0.870,0.904,0.920]\n",
    "plt.figure(figsize=(15, 8))\n",
    "plt.scatter(FDR_6_knock,TPR_6_knock,alpha=0.5,s=200,marker='v',label='Knockoff')\n",
    "plt.scatter(FDR_6,TPR_6,s=200,alpha=0.5,c='r',marker='o',label='BSS')\n",
    "plt.legend(loc='upper right')\n",
    "plt.ylim((0,1.2))\n",
    "plt.xticks(fontproperties='Times New Roman',size=17)\n",
    "plt.yticks(fontproperties='Times New Roman',size=14)\n",
    "plt.xlabel('FDR',fontdict={'family':'Times New Roman','size':16})\n",
    "plt.ylabel('TPR',fontdict={'family':'Times New Roman','size':16})\n",
    "plt.grid(True)\n",
    "plt.show()"
   ]
  },
  {
   "cell_type": "markdown",
   "metadata": {},
   "source": [
    "#### Test7: Medium Setting, High-Noise, $\\rho$ = 0.35"
   ]
  },
  {
   "cell_type": "code",
   "execution_count": 15,
   "metadata": {},
   "outputs": [
    {
     "name": "stdout",
     "output_type": "stream",
     "text": [
      "0 1 2 3 4 5 6 7 8 9 \n",
      "\n",
      "FDR_7: [0.0, 0.16666666666666666, 0.0, 0.0, 0.0, 0.2857142857142857, 0.4444444444444444, 0.5454545454545454, 0.6666666666666666, 0.75]\n",
      "TPR_7: [0.20000000000000004, 0.4000000000000001, 0.6, 0.8000000000000002, 1.0, 1.0, 1.0, 1.0, 1.0, 1.0]\n"
     ]
    }
   ],
   "source": [
    "# BSS\n",
    "# Store FDR and TPR\n",
    "TPR_7=[]\n",
    "FDR_7=[]\n",
    "# Set generate parameters \n",
    "n=500\n",
    "p=100\n",
    "beta0=np.matrix(np.array(list(np.ones(5))+list(np.zeros(95)))).T\n",
    "snr=10**0.05\n",
    "rho=0.35\n",
    "# Test\n",
    "for i in range(10):\n",
    "    TPR_7_temp=[]\n",
    "    FDR_7_temp=[]\n",
    "    for j in range(3):\n",
    "        X,Y=gnrt_normal(n,p,rho,snr,beta0)\n",
    "        try:\n",
    "            beta_bestsubset=solve_bestsubset(Y,X,0.000001,kmed[i])\n",
    "            if len(beta_bestsubset)>0:\n",
    "                TPR_7_temp.append(TPR(beta_bestsubset,beta0))\n",
    "                FDR_7_temp.append(FDR(beta_bestsubset,beta0))\n",
    "        except AttributeError:\n",
    "            print('F')\n",
    "    TPR_7.append(np.mean(TPR_7_temp))\n",
    "    FDR_7.append(np.mean(FDR_7_temp))\n",
    "    print(i,end=' ')\n",
    "print('\\n')\n",
    "print('FDR_7:',FDR_7)\n",
    "print('TPR_7:',TPR_7)"
   ]
  },
  {
   "cell_type": "code",
   "execution_count": null,
   "metadata": {},
   "outputs": [],
   "source": [
    "# Lasso"
   ]
  },
  {
   "cell_type": "code",
   "execution_count": 41,
   "metadata": {
    "scrolled": true
   },
   "outputs": [
    {
     "data": {
      "image/png": "[encoded data removed]",
      "text/plain": [
       "<Figure size 1080x576 with 1 Axes>"
      ]
     },
     "metadata": {
      "needs_background": "light"
     },
     "output_type": "display_data"
    }
   ],
   "source": [
    "# Plot\n",
    "FDR_7_knock=[0.26492,0.2989332,0.3107872,0.3244861,0.3851247,0.3680117,0.3476537,0.3602411,0.3983052,0.4154519]\n",
    "TPR_7_knock=[0.986,0.996,0.996,0.998,0.998,0.998,0.998,1,1,0.998]\n",
    "plt.figure(figsize=(15, 8))\n",
    "plt.scatter(FDR_7_knock,TPR_7_knock,alpha=0.5,s=200,marker='v',label='Knockoff')\n",
    "plt.scatter(FDR_7,TPR_7,s=200,alpha=0.5,c='r',marker='o',label='BSS')\n",
    "plt.legend(loc='upper right')\n",
    "plt.ylim((0,1.2))\n",
    "plt.xticks(fontproperties='Times New Roman',size=17)\n",
    "plt.yticks(fontproperties='Times New Roman',size=14)\n",
    "plt.xlabel('FDR',fontdict={'family':'Times New Roman','size':16})\n",
    "plt.ylabel('TPR',fontdict={'family':'Times New Roman','size':16})\n",
    "plt.grid(True)\n",
    "plt.show()"
   ]
  },
  {
   "cell_type": "markdown",
   "metadata": {},
   "source": [
    "#### Test8: Medium Setting, High-Noise, $\\rho$ = 0.70"
   ]
  },
  {
   "cell_type": "code",
   "execution_count": 16,
   "metadata": {},
   "outputs": [
    {
     "name": "stdout",
     "output_type": "stream",
     "text": [
      "0 1 2 3 4 5 6 7 8 9 \n",
      "\n",
      "FDR_8: [0.0, 0.0, 0.0, 0.0, 0.20000000000000004, 0.2857142857142857, 0.4444444444444444, 0.5757575757575757, 0.6666666666666666, 0.75]\n",
      "TPR_8: [0.20000000000000004, 0.4000000000000001, 0.6, 0.8000000000000002, 0.8000000000000002, 1.0, 1.0, 0.9333333333333332, 1.0, 1.0]\n"
     ]
    }
   ],
   "source": [
    "# BSS\n",
    "# Store FDR and TPR\n",
    "TPR_8=[]\n",
    "FDR_8=[]\n",
    "# Set generate parameters \n",
    "n=500\n",
    "p=100\n",
    "beta0=np.matrix(np.array(list(np.ones(5))+list(np.zeros(95)))).T\n",
    "snr=10**0.05\n",
    "rho=0.7\n",
    "# Test\n",
    "for i in range(10):\n",
    "    TPR_8_temp=[]\n",
    "    FDR_8_temp=[]\n",
    "    for j in range(3):\n",
    "        X,Y=gnrt_normal(n,p,rho,snr,beta0)\n",
    "        try:\n",
    "            beta_bestsubset=solve_bestsubset(Y,X,0.000001,kmed[i])\n",
    "            if len(beta_bestsubset)>0:\n",
    "                TPR_8_temp.append(TPR(beta_bestsubset,beta0))\n",
    "                FDR_8_temp.append(FDR(beta_bestsubset,beta0))\n",
    "        except AttributeError:\n",
    "            print('F')\n",
    "    TPR_8.append(np.mean(TPR_8_temp))\n",
    "    FDR_8.append(np.mean(FDR_8_temp))\n",
    "    print(i,end=' ')\n",
    "print('\\n')\n",
    "print('FDR_8:',FDR_8)\n",
    "print('TPR_8:',TPR_8)"
   ]
  },
  {
   "cell_type": "code",
   "execution_count": null,
   "metadata": {},
   "outputs": [],
   "source": [
    "# Lasso"
   ]
  },
  {
   "cell_type": "code",
   "execution_count": 42,
   "metadata": {},
   "outputs": [
    {
     "data": {
      "image/png": "[encoded data removed]",
      "text/plain": [
       "<Figure size 1080x576 with 1 Axes>"
      ]
     },
     "metadata": {
      "needs_background": "light"
     },
     "output_type": "display_data"
    }
   ],
   "source": [
    "# Plot\n",
    "FDR_8_knock=[0.2139,0.2168,0.2410,0.1940,0.2341,0.2913,0.2780,0.3759,0.2987,0.2811]\n",
    "TPR_8_knock=[0.826,0.830,0.866,0.848,0.930,0.920,0.928,0.926,0.912,0.926]\n",
    "plt.figure(figsize=(15, 8))\n",
    "plt.scatter(FDR_8_knock,TPR_8_knock,alpha=0.5,s=200,marker='v',label='Knockoff')\n",
    "plt.scatter(FDR_8,TPR_8,s=200,alpha=0.5,c='r',marker='o',label='BSS')\n",
    "plt.legend(loc='upper right')\n",
    "plt.ylim((0,1.2))\n",
    "plt.xticks(fontproperties='Times New Roman',size=17)\n",
    "plt.yticks(fontproperties='Times New Roman',size=14)\n",
    "plt.xlabel('FDR',fontdict={'family':'Times New Roman','size':16})\n",
    "plt.ylabel('TPR',fontdict={'family':'Times New Roman','size':16})\n",
    "plt.grid(True)\n",
    "plt.show()"
   ]
  },
  {
   "cell_type": "markdown",
   "metadata": {},
   "source": [
    "#### Test9: Medium Setting, Medium-Noise, $\\rho$ = 0.35"
   ]
  },
  {
   "cell_type": "code",
   "execution_count": 17,
   "metadata": {},
   "outputs": [
    {
     "name": "stdout",
     "output_type": "stream",
     "text": [
      "0 1 2 3 4 5 6 7 8 9 \n",
      "\n",
      "FDR_9: [0.0, 0.0, 0.0, 0.0, 0.0, 0.2857142857142857, 0.4444444444444444, 0.5454545454545454, 0.6666666666666666, 0.75]\n",
      "TPR_9: [0.2, 0.4, 0.6, 0.8, 1.0, 1.0, 1.0, 1.0, 1.0, 1.0]\n"
     ]
    }
   ],
   "source": [
    "# BSS\n",
    "# Store FDR and TPR\n",
    "TPR_9=[]\n",
    "FDR_9=[]\n",
    "# Set generate parameters \n",
    "n=500\n",
    "p=100\n",
    "beta0=np.matrix(np.array(list(np.ones(5))+list(np.zeros(95)))).T\n",
    "snr=10\n",
    "rho=0.35\n",
    "# Test\n",
    "for i in range(10):\n",
    "    TPR_9_temp=[]\n",
    "    FDR_9_temp=[]\n",
    "    for j in range(2):\n",
    "        X,Y=gnrt_normal(n,p,rho,snr,beta0)\n",
    "        try:\n",
    "            beta_bestsubset=solve_bestsubset(Y,X,0.000001,kmed[i])\n",
    "            if len(beta_bestsubset)>0:\n",
    "                TPR_9_temp.append(TPR(beta_bestsubset,beta0))\n",
    "                FDR_9_temp.append(FDR(beta_bestsubset,beta0))\n",
    "        except AttributeError:\n",
    "            print('F')\n",
    "    TPR_9.append(np.mean(TPR_9_temp))\n",
    "    FDR_9.append(np.mean(FDR_9_temp))\n",
    "    print(i,end=' ')\n",
    "print('\\n')\n",
    "print('FDR_9:',FDR_9)\n",
    "print('TPR_9:',TPR_9)"
   ]
  },
  {
   "cell_type": "code",
   "execution_count": null,
   "metadata": {},
   "outputs": [],
   "source": [
    "# Lasso"
   ]
  },
  {
   "cell_type": "code",
   "execution_count": 43,
   "metadata": {},
   "outputs": [
    {
     "data": {
      "image/png": "[encoded data removed]",
      "text/plain": [
       "<Figure size 1080x576 with 1 Axes>"
      ]
     },
     "metadata": {
      "needs_background": "light"
     },
     "output_type": "display_data"
    }
   ],
   "source": [
    "# Plot\n",
    "FDR_9_knock=[0.043,0.055,0.05,0.069,0.083,0.08,0.05,0.07745,0.0751,0.0831]\n",
    "TPR_9_knock=[0.2,0.2,0.2,0.2,0.2,0.2,0.2,0.2,0.198,0.2]\n",
    "plt.figure(figsize=(15, 8))\n",
    "plt.scatter(FDR_9_knock,TPR_9_knock,alpha=0.5,s=200,marker='v',label='Knockoff')\n",
    "plt.scatter(FDR_9,TPR_9,s=200,alpha=0.5,c='r',marker='o',label='BSS')\n",
    "plt.legend(loc='upper right')\n",
    "plt.ylim((0,1.2))\n",
    "plt.xticks(fontproperties='Times New Roman',size=17)\n",
    "plt.yticks(fontproperties='Times New Roman',size=14)\n",
    "plt.xlabel('FDR',fontdict={'family':'Times New Roman','size':16})\n",
    "plt.ylabel('TPR',fontdict={'family':'Times New Roman','size':16})\n",
    "plt.grid(True)\n",
    "plt.show()"
   ]
  },
  {
   "cell_type": "markdown",
   "metadata": {},
   "source": [
    "#### Test10: Medium Setting, Medium-Noise, $\\rho$ = 0.70"
   ]
  },
  {
   "cell_type": "code",
   "execution_count": 18,
   "metadata": {},
   "outputs": [
    {
     "name": "stdout",
     "output_type": "stream",
     "text": [
      "0 1 2 3 4 5 6 7 8 9 \n",
      "\n",
      "FDR_10: [0.0, 0.0, 0.0, 0.0, 0.0, 0.2857142857142857, 0.4444444444444444, 0.5454545454545454, 0.6666666666666666, 0.75]\n",
      "TPR_10: [0.2, 0.4, 0.6, 0.8, 1.0, 1.0, 1.0, 1.0, 1.0, 1.0]\n"
     ]
    }
   ],
   "source": [
    "# BSS\n",
    "# Store FDR and TPR\n",
    "TPR_10=[]\n",
    "FDR_10=[]\n",
    "# Set generate parameters \n",
    "n=500\n",
    "p=100\n",
    "beta0=np.matrix(np.array(list(np.ones(5))+list(np.zeros(95)))).T\n",
    "snr=10\n",
    "rho=0.7\n",
    "# Test\n",
    "for i in range(10):\n",
    "    TPR_10_temp=[]\n",
    "    FDR_10_temp=[]\n",
    "    for j in range(2):\n",
    "        X,Y=gnrt_normal(n,p,rho,snr,beta0)\n",
    "        try:\n",
    "            beta_bestsubset=solve_bestsubset(Y,X,0.000001,kmed[i])\n",
    "            if len(beta_bestsubset)>0:\n",
    "                TPR_10_temp.append(TPR(beta_bestsubset,beta0))\n",
    "                FDR_10_temp.append(FDR(beta_bestsubset,beta0))\n",
    "        except AttributeError:\n",
    "            print('F')\n",
    "    TPR_10.append(np.mean(TPR_10_temp))\n",
    "    FDR_10.append(np.mean(FDR_10_temp))\n",
    "    print(i,end=' ')\n",
    "print('\\n')\n",
    "print('FDR_10:',FDR_10)\n",
    "print('TPR_10:',TPR_10)"
   ]
  },
  {
   "cell_type": "code",
   "execution_count": null,
   "metadata": {},
   "outputs": [],
   "source": [
    "# Lasso"
   ]
  },
  {
   "cell_type": "code",
   "execution_count": 44,
   "metadata": {},
   "outputs": [
    {
     "data": {
      "image/png": "[encoded data removed]",
      "text/plain": [
       "<Figure size 1080x576 with 1 Axes>"
      ]
     },
     "metadata": {
      "needs_background": "light"
     },
     "output_type": "display_data"
    }
   ],
   "source": [
    "# Plot\n",
    "FDR_10_knock=[0.04,0.045448,0.056242,0.06063,0.05767,0.05409325,0.05121175,0.0509347,0.04373431,0.0688489]\n",
    "TPR_10_knock=[0.188,0.194,0.178,0.198,0.198,0.196,0.194,0.192,0.198,0.2]\n",
    "plt.figure(figsize=(15, 8))\n",
    "plt.scatter(FDR_10_knock,TPR_10_knock,alpha=0.5,s=200,marker='v',label='Knockoff')\n",
    "plt.scatter(FDR_10,TPR_10,s=200,alpha=0.5,c='r',marker='o',label='BSS')\n",
    "plt.legend(loc='upper right')\n",
    "plt.ylim((0,1.2))\n",
    "plt.xticks(fontproperties='Times New Roman',size=17)\n",
    "plt.yticks(fontproperties='Times New Roman',size=14)\n",
    "plt.xlabel('FDR',fontdict={'family':'Times New Roman','size':16})\n",
    "plt.ylabel('TPR',fontdict={'family':'Times New Roman','size':16})\n",
    "plt.grid(True)\n",
    "plt.show()"
   ]
  },
  {
   "cell_type": "markdown",
   "metadata": {},
   "source": [
    "#### Test1: Medium Setting, Low-Noise, $\\rho$ = 0.35"
   ]
  },
  {
   "cell_type": "code",
   "execution_count": 19,
   "metadata": {},
   "outputs": [
    {
     "name": "stdout",
     "output_type": "stream",
     "text": [
      "0 1 2 3 4 5 6 7 8 9 \n",
      "\n",
      "FDR_11: [0.0, 0.0, 0.0, 0.0, 0.375, 0.375, 0.5416666666666667, 0.5833333333333334, 0.6862745098039216, 0.7613636363636364]\n",
      "TPR_11: [0.2, 0.4, 0.6, 0.8, 1.0, 1.0, 1.0, 1.0, 1.0, 1.0]\n"
     ]
    }
   ],
   "source": [
    "# BSS\n",
    "# Store FDR and TPR\n",
    "TPR_11=[]\n",
    "FDR_11=[]\n",
    "# Set generate parameters \n",
    "n=500\n",
    "p=100\n",
    "beta0=np.matrix(np.array(list(np.ones(5))+list(np.zeros(95)))).T\n",
    "snr=10**6\n",
    "rho=0.35\n",
    "# Test\n",
    "for i in range(10):\n",
    "    TPR_11_temp=[]\n",
    "    FDR_11_temp=[]\n",
    "    for j in range(2):\n",
    "        X,Y=gnrt_normal(n,p,rho,snr,beta0)\n",
    "        try:\n",
    "            beta_bestsubset=solve_bestsubset(Y,X,0.000001,kmed[i])\n",
    "            if len(beta_bestsubset)>0:\n",
    "                TPR_11_temp.append(TPR(beta_bestsubset,beta0))\n",
    "                FDR_11_temp.append(FDR(beta_bestsubset,beta0))\n",
    "        except AttributeError:\n",
    "            print('F')\n",
    "    TPR_11.append(np.mean(TPR_11_temp))\n",
    "    FDR_11.append(np.mean(FDR_11_temp))\n",
    "    print(i,end=' ')\n",
    "print('\\n')\n",
    "print('FDR_11:',FDR_11)\n",
    "print('TPR_11:',TPR_11)"
   ]
  },
  {
   "cell_type": "code",
   "execution_count": null,
   "metadata": {},
   "outputs": [],
   "source": [
    "# Lasso"
   ]
  },
  {
   "cell_type": "code",
   "execution_count": 45,
   "metadata": {},
   "outputs": [
    {
     "data": {
      "image/png": "[encoded data removed]",
      "text/plain": [
       "<Figure size 1080x576 with 1 Axes>"
      ]
     },
     "metadata": {
      "needs_background": "light"
     },
     "output_type": "display_data"
    }
   ],
   "source": [
    "# Plot\n",
    "FDR_11_knock=[0,0,0,0,0,0,0,0,0,0]\n",
    "TPR_11_knock=[0.2,0.2,0.2,0.2,0.2,0.2,0.2,0.2,0.2,0.2]\n",
    "plt.figure(figsize=(15, 8))\n",
    "plt.scatter(FDR_11_knock,TPR_11_knock,alpha=0.5,s=200,marker='v',label='Knockoff')\n",
    "plt.scatter(FDR_11,TPR_11,s=200,alpha=0.5,c='r',marker='o',label='BSS')\n",
    "plt.legend(loc='upper right')\n",
    "plt.ylim((0,1.2))\n",
    "plt.xticks(fontproperties='Times New Roman',size=17)\n",
    "plt.yticks(fontproperties='Times New Roman',size=14)\n",
    "plt.xlabel('FDR',fontdict={'family':'Times New Roman','size':16})\n",
    "plt.ylabel('TPR',fontdict={'family':'Times New Roman','size':16})\n",
    "plt.grid(True)\n",
    "plt.show()"
   ]
  },
  {
   "cell_type": "markdown",
   "metadata": {},
   "source": [
    "#### Test12: Meidum Setting, Low-Noise, $\\rho$ = 0.70"
   ]
  },
  {
   "cell_type": "code",
   "execution_count": 20,
   "metadata": {},
   "outputs": [
    {
     "name": "stdout",
     "output_type": "stream",
     "text": [
      "0 1 2 3 4 5 6 7 8 9 \n",
      "\n",
      "FDR_12: [0.0, 0.0, 0.0, 0.0, 0.2222222222222222, 0.375, 0.5227272727272727, 0.6153846153846154, 0.6862745098039216, 0.7559523809523809]\n",
      "TPR_12: [0.2, 0.4, 0.6, 0.8, 1.0, 1.0, 1.0, 1.0, 1.0, 1.0]\n"
     ]
    }
   ],
   "source": [
    "# BSS\n",
    "# Store FDR and TPR\n",
    "TPR_12=[]\n",
    "FDR_12=[]\n",
    "# Set generate parameters \n",
    "n=500\n",
    "p=100\n",
    "beta0=np.matrix(np.array(list(np.ones(5))+list(np.zeros(95)))).T\n",
    "snr=10**6\n",
    "rho=0.7\n",
    "# Test\n",
    "for i in range(10):\n",
    "    TPR_12_temp=[]\n",
    "    FDR_12_temp=[]\n",
    "    for j in range(2):\n",
    "        X,Y=gnrt_normal(n,p,rho,snr,beta0)\n",
    "        try:\n",
    "            beta_bestsubset=solve_bestsubset(Y,X,0.000001,kmed[i])\n",
    "            if len(beta_bestsubset)>0:\n",
    "                TPR_12_temp.append(TPR(beta_bestsubset,beta0))\n",
    "                FDR_12_temp.append(FDR(beta_bestsubset,beta0))\n",
    "        except AttributeError:\n",
    "            print('F')\n",
    "    TPR_12.append(np.mean(TPR_12_temp))\n",
    "    FDR_12.append(np.mean(FDR_12_temp))\n",
    "    print(i,end=' ')\n",
    "print('\\n')\n",
    "print('FDR_12:',FDR_12)\n",
    "print('TPR_12:',TPR_12)"
   ]
  },
  {
   "cell_type": "code",
   "execution_count": null,
   "metadata": {},
   "outputs": [],
   "source": [
    "# Lasso"
   ]
  },
  {
   "cell_type": "code",
   "execution_count": 47,
   "metadata": {},
   "outputs": [
    {
     "data": {
      "image/png": "[encoded data removed]",
      "text/plain": [
       "<Figure size 1080x576 with 1 Axes>"
      ]
     },
     "metadata": {
      "needs_background": "light"
     },
     "output_type": "display_data"
    }
   ],
   "source": [
    "# Plot\n",
    "FDR_12_knock=[0,0,0,0,0,0,0,0,0,0]\n",
    "TPR_12_knock=[0.198,0.196,0.182,0.186,0.194,0.192,0.192,0.194,0.2,0.198]\n",
    "plt.figure(figsize=(15, 8))\n",
    "plt.scatter(FDR_12_knock,TPR_12_knock,alpha=0.5,s=200,marker='v',label='Knockoff')\n",
    "plt.scatter(FDR_12,TPR_12,s=200,alpha=0.5,c='r',marker='o',label='BSS')\n",
    "plt.legend(loc='upper right')\n",
    "plt.ylim((0,1.2))\n",
    "plt.xticks(fontproperties='Times New Roman',size=17)\n",
    "plt.yticks(fontproperties='Times New Roman',size=14)\n",
    "plt.xlabel('FDR',fontdict={'family':'Times New Roman','size':16})\n",
    "plt.ylabel('TPR',fontdict={'family':'Times New Roman','size':16})\n",
    "plt.grid(True)\n",
    "plt.show()"
   ]
  },
  {
   "cell_type": "code",
   "execution_count": null,
   "metadata": {},
   "outputs": [],
   "source": []
  }
 ],
 "metadata": {
  "kernelspec": {
   "display_name": "Python 3",
   "language": "python",
   "name": "python3"
  },
  "language_info": {
   "codemirror_mode": {
    "name": "ipython",
    "version": 3
   },
   "file_extension": ".py",
   "mimetype": "text/x-python",
   "name": "python",
   "nbconvert_exporter": "python",
   "pygments_lexer": "ipython3",
   "version": "3.7.6"
  }
 },
 "nbformat": 4,
 "nbformat_minor": 4
}
